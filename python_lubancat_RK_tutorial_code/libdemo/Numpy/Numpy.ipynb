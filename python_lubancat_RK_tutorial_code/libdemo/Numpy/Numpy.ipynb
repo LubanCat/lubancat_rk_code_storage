{
 "cells": [
  {
   "cell_type": "code",
   "execution_count": 6,
   "metadata": {},
   "outputs": [],
   "source": [
    "import numpy as np"
   ]
  },
  {
   "cell_type": "code",
   "execution_count": 10,
   "metadata": {},
   "outputs": [
    {
     "name": "stdout",
     "output_type": "stream",
     "text": [
      "[1 2 3]\n"
     ]
    }
   ],
   "source": [
    "test_array = np.array([1,2,3]) #一维数组\n",
    "print(test_array)"
   ]
  },
  {
   "cell_type": "code",
   "execution_count": 18,
   "metadata": {},
   "outputs": [
    {
     "name": "stdout",
     "output_type": "stream",
     "text": [
      "[[1 2 3]\n",
      " [4 5 6]]\n",
      "数据类型 <class 'numpy.ndarray'>\n",
      "数组元素数据类型： int32\n",
      "数组大小： 6\n",
      "数组形状： (2, 3)\n",
      "数组的维度数目 2\n",
      "每个元素所占的字节数 4\n"
     ]
    }
   ],
   "source": [
    "test_2dimension = np.array(([1,2,3],[4,5,6])) #二维数组\n",
    "print(test_2dimension)  \n",
    "print(\"数据类型\", type(test_2dimension))           #打印数组数据类型  \n",
    "print(\"数组元素数据类型：\", test_2dimension.dtype) #打印数组元素数据类型  \n",
    "print(\"数组大小：\", test_2dimension.size)      #打印数组尺寸，即数组元素总数  \n",
    "print(\"数组形状：\", test_2dimension.shape)         #打印数组形状  \n",
    "print(\"数组的维度数目\", test_2dimension.ndim)      #打印数组的维度数目 \n",
    "print(\"每个元素所占的字节数\", test_2dimension.itemsize)  #每个元素所占的字节数"
   ]
  },
  {
   "cell_type": "code",
   "execution_count": 19,
   "metadata": {},
   "outputs": [
    {
     "name": "stdout",
     "output_type": "stream",
     "text": [
      "[[[1 2 3]\n",
      "  [4 5 6]]\n",
      "\n",
      " [[1 2 3]\n",
      "  [4 5 6]]]\n",
      "数据类型 <class 'numpy.ndarray'>\n",
      "数组元素数据类型： int32\n",
      "数组大小： 12\n",
      "数组形状： (2, 2, 3)\n",
      "数组的维度数目 3\n",
      "每个元素所占的字节数 4\n"
     ]
    }
   ],
   "source": [
    "test_3dimension = np.array((([1,2,3],[4,5,6]),([1,2,3],[4,5,6]))) #二维数组\n",
    "print(test_dimension)  \n",
    "print(\"数组大小：\", test_dimension.size)      #打印数组尺寸，即数组元素总数  \n",
    "print(\"数组形状：\", test_dimension.shape)         #打印数组形状  \n",
    "print(\"数组的维度数目\", test_dimension.ndim)      #打印数组的维度数目 \n",
    "print(\"每个元素所占的字节数\", test_dimension.itemsize)  #每个元素所占的字节数"
   ]
  }
 ],
 "metadata": {
  "kernelspec": {
   "display_name": "Python 3",
   "language": "python",
   "name": "python3"
  },
  "language_info": {
   "codemirror_mode": {
    "name": "ipython",
    "version": 3
   },
   "file_extension": ".py",
   "mimetype": "text/x-python",
   "name": "python",
   "nbconvert_exporter": "python",
   "pygments_lexer": "ipython3",
   "version": "3.7.3"
  }
 },
 "nbformat": 4,
 "nbformat_minor": 2
}
